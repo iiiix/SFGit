{
 "cells": [
  {
   "cell_type": "markdown",
   "metadata": {},
   "source": [
    "# Угадывание числа из заданного диапазона за минимальное количество попыток"
   ]
  },
  {
   "cell_type": "markdown",
   "metadata": {},
   "source": [
    "1. Загадываем число из диапазона от 0 до 100.\n",
    "2. Функция game_core принимает загаданное число и возвращает число попыток.\n",
    "3. Функция score_game запускает функцию game_core 1000 раз, чтобы определить среднее количкство попыток, за которое та угадывает число."
   ]
  },
  {
   "cell_type": "code",
   "execution_count": 1,
   "metadata": {},
   "outputs": [
    {
     "name": "stdout",
     "output_type": "stream",
     "text": [
      "Загадано число от 1 до 100\n",
      "Этот алгоритм угадывает число в среднем за 5 попыток\n"
     ]
    },
    {
     "data": {
      "text/plain": [
       "5"
      ]
     },
     "execution_count": 1,
     "metadata": {},
     "output_type": "execute_result"
    }
   ],
   "source": [
    "import numpy as np\n",
    "\n",
    "number = np.random.randint(1,101)    # загадываем число\n",
    "print (\"Загадано число от 1 до 100\")\n",
    "\n",
    "def game_core(number):\n",
    "    '''В качестве первого варианта выбираем середину диапазона, из которого загадано число,\n",
    "        а потом в зависимости от того, больше оно или меньше нужного, устанавливаем новые границы диапазона и\n",
    "        выбираем середину из него.\n",
    "        Функция принимает загаданное число и возвращает число попыток'''\n",
    "    count = 1\n",
    "    left = 0\n",
    "    right = 101\n",
    "    predict = (left + right) // 2\n",
    "    \n",
    "    while predict != number:\n",
    "        count+=1\n",
    "        if number > predict: \n",
    "            left = predict # обрезаем диапазон слева\n",
    "        elif number < predict: \n",
    "            right = predict # обрезаем диапазон справа\n",
    "        predict = (left + right) // 2 # выбираем середину диапазона\n",
    "    return(count) # выход из цикла, если число угадано\n",
    "\n",
    "def score_game(game_core):\n",
    "    '''Запускаем игру 1000 раз, чтобы узнать, как быстро игра угадывает число'''\n",
    "    count_ls = []\n",
    "    np.random.seed(1) # фиксируем RANDOM SEED, чтобы эксперимент был воспроизводим\n",
    "    random_array = np.random.randint(1,101, size=(1000))\n",
    "    for number in random_array:\n",
    "        count_ls.append(game_core(number))\n",
    "    score = int(np.mean(count_ls))\n",
    "    print(f\"Этот алгоритм угадывает число в среднем за {score} попыток\")\n",
    "    return(score)\n",
    "\n",
    "score_game(game_core)"
   ]
  },
  {
   "cell_type": "code",
   "execution_count": null,
   "metadata": {},
   "outputs": [],
   "source": []
  }
 ],
 "metadata": {
  "kernelspec": {
   "display_name": "Python 3",
   "language": "python",
   "name": "python3"
  },
  "language_info": {
   "codemirror_mode": {
    "name": "ipython",
    "version": 3
   },
   "file_extension": ".py",
   "mimetype": "text/x-python",
   "name": "python",
   "nbconvert_exporter": "python",
   "pygments_lexer": "ipython3",
   "version": "3.7.6"
  }
 },
 "nbformat": 4,
 "nbformat_minor": 4
}
