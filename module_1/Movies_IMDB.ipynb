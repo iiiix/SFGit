{
 "cells": [
  {
   "cell_type": "code",
   "execution_count": 11,
   "metadata": {
    "_cell_guid": "b1076dfc-b9ad-4769-8c92-a6c4dae69d19",
    "_uuid": "8f2839f25d086af736a60e9eeb907d3b93b6e0e5",
    "colab": {},
    "colab_type": "code",
    "id": "U2D2gTdJVp90"
   },
   "outputs": [],
   "source": [
    "import numpy as np\n",
    "import pandas as pd\n",
    "import seaborn as sns\n",
    "import matplotlib.pyplot as plt\n",
    "from collections import Counter"
   ]
  },
  {
   "cell_type": "code",
   "execution_count": 12,
   "metadata": {
    "_cell_guid": "79c7e3d0-c299-4dcb-8224-4455121ee9b0",
    "_uuid": "d629ff2d2480ee46fbb7e2d37f6b5fab8052498a",
    "colab": {},
    "colab_type": "code",
    "id": "oyGfxL3eVp9-"
   },
   "outputs": [
    {
     "data": {
      "text/html": [
       "<div>\n",
       "<style scoped>\n",
       "    .dataframe tbody tr th:only-of-type {\n",
       "        vertical-align: middle;\n",
       "    }\n",
       "\n",
       "    .dataframe tbody tr th {\n",
       "        vertical-align: top;\n",
       "    }\n",
       "\n",
       "    .dataframe thead th {\n",
       "        text-align: right;\n",
       "    }\n",
       "</style>\n",
       "<table border=\"1\" class=\"dataframe\">\n",
       "  <thead>\n",
       "    <tr style=\"text-align: right;\">\n",
       "      <th></th>\n",
       "      <th>imdb_id</th>\n",
       "      <th>budget</th>\n",
       "      <th>revenue</th>\n",
       "      <th>original_title</th>\n",
       "      <th>cast</th>\n",
       "      <th>director</th>\n",
       "      <th>tagline</th>\n",
       "      <th>overview</th>\n",
       "      <th>runtime</th>\n",
       "      <th>genres</th>\n",
       "      <th>production_companies</th>\n",
       "      <th>release_date</th>\n",
       "      <th>vote_average</th>\n",
       "      <th>release_year</th>\n",
       "    </tr>\n",
       "  </thead>\n",
       "  <tbody>\n",
       "    <tr>\n",
       "      <th>1518</th>\n",
       "      <td>tt0493430</td>\n",
       "      <td>11000000</td>\n",
       "      <td>72778712</td>\n",
       "      <td>Jackass Number Two</td>\n",
       "      <td>Johnny Knoxville|Bam Margera|Steve-O|Chris Pon...</td>\n",
       "      <td>Jeff Tremaine</td>\n",
       "      <td>Guess who just made number two?</td>\n",
       "      <td>Jackass Number Two is a compilation of various...</td>\n",
       "      <td>95</td>\n",
       "      <td>Action|Comedy|Documentary</td>\n",
       "      <td>Paramount Pictures</td>\n",
       "      <td>9/22/2006</td>\n",
       "      <td>6.4</td>\n",
       "      <td>2006</td>\n",
       "    </tr>\n",
       "    <tr>\n",
       "      <th>1880</th>\n",
       "      <td>tt0190374</td>\n",
       "      <td>35000000</td>\n",
       "      <td>15185241</td>\n",
       "      <td>Dungeons &amp; Dragons</td>\n",
       "      <td>Justin Whalin|Jeremy Irons|Thora Birch|Bruce P...</td>\n",
       "      <td>Courtney Solomon</td>\n",
       "      <td>This is no game.</td>\n",
       "      <td>The classic role-playing game comes to life in...</td>\n",
       "      <td>107</td>\n",
       "      <td>Action|Adventure|Fantasy|Science Fiction</td>\n",
       "      <td>New Line Cinema|Silver Pictures|Sweetpea Enter...</td>\n",
       "      <td>12/8/2000</td>\n",
       "      <td>3.9</td>\n",
       "      <td>2000</td>\n",
       "    </tr>\n",
       "    <tr>\n",
       "      <th>719</th>\n",
       "      <td>tt0494652</td>\n",
       "      <td>35000000</td>\n",
       "      <td>43650785</td>\n",
       "      <td>Welcome Home Roscoe Jenkins</td>\n",
       "      <td>Martin Lawrence|James Earl Jones|Margaret Aver...</td>\n",
       "      <td>Malcolm D. Lee</td>\n",
       "      <td>Roscoe Jenkins aims for the heartstrings and f...</td>\n",
       "      <td>Martin Lawrence leads an all-star cast, includ...</td>\n",
       "      <td>114</td>\n",
       "      <td>Comedy|Drama</td>\n",
       "      <td>Universal Pictures|Spyglass Entertainment</td>\n",
       "      <td>2/8/2008</td>\n",
       "      <td>6.1</td>\n",
       "      <td>2008</td>\n",
       "    </tr>\n",
       "    <tr>\n",
       "      <th>844</th>\n",
       "      <td>tt1067583</td>\n",
       "      <td>38000000</td>\n",
       "      <td>114156230</td>\n",
       "      <td>Water for Elephants</td>\n",
       "      <td>Robert Pattinson|Reese Witherspoon|Christoph W...</td>\n",
       "      <td>Francis Lawrence</td>\n",
       "      <td>Life is the most spectacular show on earth.</td>\n",
       "      <td>In this captivating Depression-era melodrama, ...</td>\n",
       "      <td>120</td>\n",
       "      <td>Drama|Romance</td>\n",
       "      <td>Ingenious Media|Dune Entertainment|Fox 2000 Pi...</td>\n",
       "      <td>3/15/2011</td>\n",
       "      <td>6.7</td>\n",
       "      <td>2011</td>\n",
       "    </tr>\n",
       "    <tr>\n",
       "      <th>1642</th>\n",
       "      <td>tt0360201</td>\n",
       "      <td>31000000</td>\n",
       "      <td>41512007</td>\n",
       "      <td>Wimbledon</td>\n",
       "      <td>Kirsten Dunst|Paul Bettany|Sam Neill|James McA...</td>\n",
       "      <td>Richard Loncraine</td>\n",
       "      <td>She's the golden girl. He's the longshot. It's...</td>\n",
       "      <td>A pro tennis player has lost his ambition and ...</td>\n",
       "      <td>98</td>\n",
       "      <td>Comedy|Romance</td>\n",
       "      <td>Universal Pictures</td>\n",
       "      <td>9/13/2004</td>\n",
       "      <td>5.7</td>\n",
       "      <td>2004</td>\n",
       "    </tr>\n",
       "  </tbody>\n",
       "</table>\n",
       "</div>"
      ],
      "text/plain": [
       "        imdb_id    budget    revenue               original_title  \\\n",
       "1518  tt0493430  11000000   72778712           Jackass Number Two   \n",
       "1880  tt0190374  35000000   15185241           Dungeons & Dragons   \n",
       "719   tt0494652  35000000   43650785  Welcome Home Roscoe Jenkins   \n",
       "844   tt1067583  38000000  114156230          Water for Elephants   \n",
       "1642  tt0360201  31000000   41512007                    Wimbledon   \n",
       "\n",
       "                                                   cast           director  \\\n",
       "1518  Johnny Knoxville|Bam Margera|Steve-O|Chris Pon...      Jeff Tremaine   \n",
       "1880  Justin Whalin|Jeremy Irons|Thora Birch|Bruce P...   Courtney Solomon   \n",
       "719   Martin Lawrence|James Earl Jones|Margaret Aver...     Malcolm D. Lee   \n",
       "844   Robert Pattinson|Reese Witherspoon|Christoph W...   Francis Lawrence   \n",
       "1642  Kirsten Dunst|Paul Bettany|Sam Neill|James McA...  Richard Loncraine   \n",
       "\n",
       "                                                tagline  \\\n",
       "1518                    Guess who just made number two?   \n",
       "1880                                   This is no game.   \n",
       "719   Roscoe Jenkins aims for the heartstrings and f...   \n",
       "844         Life is the most spectacular show on earth.   \n",
       "1642  She's the golden girl. He's the longshot. It's...   \n",
       "\n",
       "                                               overview  runtime  \\\n",
       "1518  Jackass Number Two is a compilation of various...       95   \n",
       "1880  The classic role-playing game comes to life in...      107   \n",
       "719   Martin Lawrence leads an all-star cast, includ...      114   \n",
       "844   In this captivating Depression-era melodrama, ...      120   \n",
       "1642  A pro tennis player has lost his ambition and ...       98   \n",
       "\n",
       "                                        genres  \\\n",
       "1518                 Action|Comedy|Documentary   \n",
       "1880  Action|Adventure|Fantasy|Science Fiction   \n",
       "719                               Comedy|Drama   \n",
       "844                              Drama|Romance   \n",
       "1642                            Comedy|Romance   \n",
       "\n",
       "                                   production_companies release_date  \\\n",
       "1518                                 Paramount Pictures    9/22/2006   \n",
       "1880  New Line Cinema|Silver Pictures|Sweetpea Enter...    12/8/2000   \n",
       "719           Universal Pictures|Spyglass Entertainment     2/8/2008   \n",
       "844   Ingenious Media|Dune Entertainment|Fox 2000 Pi...    3/15/2011   \n",
       "1642                                 Universal Pictures    9/13/2004   \n",
       "\n",
       "      vote_average  release_year  \n",
       "1518           6.4          2006  \n",
       "1880           3.9          2000  \n",
       "719            6.1          2008  \n",
       "844            6.7          2011  \n",
       "1642           5.7          2004  "
      ]
     },
     "execution_count": 12,
     "metadata": {},
     "output_type": "execute_result"
    }
   ],
   "source": [
    "data = pd.read_csv('movie_bd_v5.csv')\n",
    "data.sample(5)"
   ]
  },
  {
   "cell_type": "code",
   "execution_count": 13,
   "metadata": {
    "colab": {},
    "colab_type": "code",
    "id": "CoYUnagMVp-C"
   },
   "outputs": [
    {
     "data": {
      "text/html": [
       "<div>\n",
       "<style scoped>\n",
       "    .dataframe tbody tr th:only-of-type {\n",
       "        vertical-align: middle;\n",
       "    }\n",
       "\n",
       "    .dataframe tbody tr th {\n",
       "        vertical-align: top;\n",
       "    }\n",
       "\n",
       "    .dataframe thead th {\n",
       "        text-align: right;\n",
       "    }\n",
       "</style>\n",
       "<table border=\"1\" class=\"dataframe\">\n",
       "  <thead>\n",
       "    <tr style=\"text-align: right;\">\n",
       "      <th></th>\n",
       "      <th>budget</th>\n",
       "      <th>revenue</th>\n",
       "      <th>runtime</th>\n",
       "      <th>vote_average</th>\n",
       "      <th>release_year</th>\n",
       "    </tr>\n",
       "  </thead>\n",
       "  <tbody>\n",
       "    <tr>\n",
       "      <th>count</th>\n",
       "      <td>1.889000e+03</td>\n",
       "      <td>1.889000e+03</td>\n",
       "      <td>1889.000000</td>\n",
       "      <td>1889.000000</td>\n",
       "      <td>1889.000000</td>\n",
       "    </tr>\n",
       "    <tr>\n",
       "      <th>mean</th>\n",
       "      <td>5.431083e+07</td>\n",
       "      <td>1.553653e+08</td>\n",
       "      <td>109.658549</td>\n",
       "      <td>6.140762</td>\n",
       "      <td>2007.860773</td>\n",
       "    </tr>\n",
       "    <tr>\n",
       "      <th>std</th>\n",
       "      <td>4.858721e+07</td>\n",
       "      <td>2.146698e+08</td>\n",
       "      <td>18.017041</td>\n",
       "      <td>0.764763</td>\n",
       "      <td>4.468841</td>\n",
       "    </tr>\n",
       "    <tr>\n",
       "      <th>min</th>\n",
       "      <td>5.000000e+06</td>\n",
       "      <td>2.033165e+06</td>\n",
       "      <td>63.000000</td>\n",
       "      <td>3.300000</td>\n",
       "      <td>2000.000000</td>\n",
       "    </tr>\n",
       "    <tr>\n",
       "      <th>25%</th>\n",
       "      <td>2.000000e+07</td>\n",
       "      <td>3.456058e+07</td>\n",
       "      <td>97.000000</td>\n",
       "      <td>5.600000</td>\n",
       "      <td>2004.000000</td>\n",
       "    </tr>\n",
       "    <tr>\n",
       "      <th>50%</th>\n",
       "      <td>3.800000e+07</td>\n",
       "      <td>8.361541e+07</td>\n",
       "      <td>107.000000</td>\n",
       "      <td>6.100000</td>\n",
       "      <td>2008.000000</td>\n",
       "    </tr>\n",
       "    <tr>\n",
       "      <th>75%</th>\n",
       "      <td>7.200000e+07</td>\n",
       "      <td>1.782626e+08</td>\n",
       "      <td>120.000000</td>\n",
       "      <td>6.600000</td>\n",
       "      <td>2012.000000</td>\n",
       "    </tr>\n",
       "    <tr>\n",
       "      <th>max</th>\n",
       "      <td>3.800000e+08</td>\n",
       "      <td>2.781506e+09</td>\n",
       "      <td>214.000000</td>\n",
       "      <td>8.100000</td>\n",
       "      <td>2015.000000</td>\n",
       "    </tr>\n",
       "  </tbody>\n",
       "</table>\n",
       "</div>"
      ],
      "text/plain": [
       "             budget       revenue      runtime  vote_average  release_year\n",
       "count  1.889000e+03  1.889000e+03  1889.000000   1889.000000   1889.000000\n",
       "mean   5.431083e+07  1.553653e+08   109.658549      6.140762   2007.860773\n",
       "std    4.858721e+07  2.146698e+08    18.017041      0.764763      4.468841\n",
       "min    5.000000e+06  2.033165e+06    63.000000      3.300000   2000.000000\n",
       "25%    2.000000e+07  3.456058e+07    97.000000      5.600000   2004.000000\n",
       "50%    3.800000e+07  8.361541e+07   107.000000      6.100000   2008.000000\n",
       "75%    7.200000e+07  1.782626e+08   120.000000      6.600000   2012.000000\n",
       "max    3.800000e+08  2.781506e+09   214.000000      8.100000   2015.000000"
      ]
     },
     "execution_count": 13,
     "metadata": {},
     "output_type": "execute_result"
    }
   ],
   "source": [
    "data.describe()"
   ]
  },
  {
   "cell_type": "markdown",
   "metadata": {
    "colab_type": "text",
    "id": "DTIt7ezGVp-G"
   },
   "source": [
    "# Предобработка"
   ]
  },
  {
   "cell_type": "code",
   "execution_count": 14,
   "metadata": {
    "colab": {},
    "colab_type": "code",
    "id": "jNb40DwKVp-H"
   },
   "outputs": [],
   "source": [
    "answers = {} # создадим словарь для ответов\n",
    "data['profit'] = data['revenue'] - data['budget'] #создаем колонку с прибылью\n",
    "data['month'] = pd.to_datetime(data['release_date']).dt.month #создаем колонку с месяцем релиза\n",
    "data['name_len'] = data['original_title'].apply(lambda x:len(x)) #создаем колонку с длиной заголовка\n",
    "data['word_count'] = data['overview'].str.split(' ').apply(lambda x:len(x)) #создаем колонку с кол-вом слов в описании"
   ]
  },
  {
   "cell_type": "markdown",
   "metadata": {
    "colab_type": "text",
    "id": "YxZaH-nPVp-L"
   },
   "source": [
    "# 1. У какого фильма из списка самый большой бюджет?"
   ]
  },
  {
   "cell_type": "markdown",
   "metadata": {
    "colab_type": "text",
    "id": "Nd-G5gX6Vp-M"
   },
   "source": [
    "Использовать варианты ответов в коде решения запрещено.    \n",
    "Вы думаете и в жизни у вас будут варианты ответов?)"
   ]
  },
  {
   "cell_type": "code",
   "execution_count": 15,
   "metadata": {
    "colab": {},
    "colab_type": "code",
    "id": "uVnXAY5RVp-O"
   },
   "outputs": [],
   "source": [
    "answers['1'] = 'Pirates of the Caribbean: On Stranger Tides (tt1298650)'\n",
    "# \"+\""
   ]
  },
  {
   "cell_type": "code",
   "execution_count": 16,
   "metadata": {
    "colab": {},
    "colab_type": "code",
    "id": "dZwb3m28Vp-S"
   },
   "outputs": [
    {
     "data": {
      "text/plain": [
       "imdb_id                                                         tt1298650\n",
       "budget                                                          380000000\n",
       "revenue                                                        1021683000\n",
       "original_title                Pirates of the Caribbean: On Stranger Tides\n",
       "cast                    Johnny Depp|PenÃ©lope Cruz|Geoffrey Rush|Ian M...\n",
       "director                                                     Rob Marshall\n",
       "tagline                                       Live Forever Or Die Trying.\n",
       "overview                Captain Jack Sparrow crosses paths with a woma...\n",
       "runtime                                                               136\n",
       "genres                                           Adventure|Action|Fantasy\n",
       "production_companies    Walt Disney Pictures|Jerry Bruckheimer Films|M...\n",
       "release_date                                                    5/11/2011\n",
       "vote_average                                                          6.3\n",
       "release_year                                                         2011\n",
       "profit                                                          641683000\n",
       "month                                                                   5\n",
       "name_len                                                               43\n",
       "word_count                                                             75\n",
       "Name: 723, dtype: object"
      ]
     },
     "execution_count": 16,
     "metadata": {},
     "output_type": "execute_result"
    }
   ],
   "source": [
    "data.loc[data['budget'].idxmax()]"
   ]
  },
  {
   "cell_type": "markdown",
   "metadata": {
    "colab_type": "text",
    "id": "FNRbbI3vVp-c"
   },
   "source": [
    "# 2. Какой из фильмов самый длительный (в минутах)?"
   ]
  },
  {
   "cell_type": "code",
   "execution_count": 17,
   "metadata": {
    "colab": {},
    "colab_type": "code",
    "id": "vHAoEXNTVp-d"
   },
   "outputs": [],
   "source": [
    "answers['2'] = 'Gods and Generals (tt0279111)'\n",
    "# \"+\""
   ]
  },
  {
   "cell_type": "code",
   "execution_count": 18,
   "metadata": {
    "colab": {},
    "colab_type": "code",
    "id": "ot-VX2XrVp-g"
   },
   "outputs": [
    {
     "data": {
      "text/plain": [
       "imdb_id                                                         tt0279111\n",
       "budget                                                           56000000\n",
       "revenue                                                          12923936\n",
       "original_title                                          Gods and Generals\n",
       "cast                    Stephen Lang|Jeff Daniels|Robert Duvall|Kevin ...\n",
       "director                                                Ronald F. Maxwell\n",
       "tagline                               The nations heart was touched by...\n",
       "overview                The film centers mostly around the personal an...\n",
       "runtime                                                               214\n",
       "genres                                                  Drama|History|War\n",
       "production_companies                   Turner Pictures|Antietam Filmworks\n",
       "release_date                                                    2/21/2003\n",
       "vote_average                                                          5.8\n",
       "release_year                                                         2003\n",
       "profit                                                          -43076064\n",
       "month                                                                   2\n",
       "name_len                                                               17\n",
       "word_count                                                             48\n",
       "Name: 1157, dtype: object"
      ]
     },
     "execution_count": 18,
     "metadata": {},
     "output_type": "execute_result"
    }
   ],
   "source": [
    "data.loc[data['runtime'].idxmax()]"
   ]
  },
  {
   "cell_type": "markdown",
   "metadata": {
    "colab_type": "text",
    "id": "bapLlpW8Vp-k"
   },
   "source": [
    "# 3. Какой из фильмов самый короткий (в минутах)?\n",
    "\n",
    "\n",
    "\n"
   ]
  },
  {
   "cell_type": "code",
   "execution_count": 19,
   "metadata": {
    "colab": {},
    "colab_type": "code",
    "id": "YBxaSHuAVp-l"
   },
   "outputs": [],
   "source": [
    "answers['3'] = 'Winnie the Pooh (tt1449283)'\n",
    "# \"+\""
   ]
  },
  {
   "cell_type": "code",
   "execution_count": 20,
   "metadata": {},
   "outputs": [
    {
     "data": {
      "text/plain": [
       "imdb_id                                                         tt1449283\n",
       "budget                                                           30000000\n",
       "revenue                                                          14460000\n",
       "original_title                                            Winnie the Pooh\n",
       "cast                    Jim Cummings|Travis Oates|Jim Cummings|Bud Luc...\n",
       "director                                        Stephen Anderson|Don Hall\n",
       "tagline                                                          Oh Pooh.\n",
       "overview                During an ordinary day in Hundred Acre Wood, W...\n",
       "runtime                                                                63\n",
       "genres                                                   Animation|Family\n",
       "production_companies    Walt Disney Pictures|Walt Disney Animation Stu...\n",
       "release_date                                                    4/13/2011\n",
       "vote_average                                                          6.8\n",
       "release_year                                                         2011\n",
       "profit                                                          -15540000\n",
       "month                                                                   4\n",
       "name_len                                                               15\n",
       "word_count                                                             52\n",
       "Name: 768, dtype: object"
      ]
     },
     "execution_count": 20,
     "metadata": {},
     "output_type": "execute_result"
    }
   ],
   "source": [
    "data.loc[data['runtime'].idxmin()]"
   ]
  },
  {
   "cell_type": "markdown",
   "metadata": {
    "colab_type": "text",
    "id": "TfQbxbfNVp-p"
   },
   "source": [
    "# 4. Какова средняя длительность фильмов?\n"
   ]
  },
  {
   "cell_type": "code",
   "execution_count": 21,
   "metadata": {
    "colab": {},
    "colab_type": "code",
    "id": "5K6dKZYVVp-q"
   },
   "outputs": [],
   "source": [
    "answers['4'] = 110\n",
    "# \"+\""
   ]
  },
  {
   "cell_type": "code",
   "execution_count": 22,
   "metadata": {},
   "outputs": [
    {
     "data": {
      "text/plain": [
       "109.6585494970884"
      ]
     },
     "execution_count": 22,
     "metadata": {},
     "output_type": "execute_result"
    }
   ],
   "source": [
    "data['runtime'].mean()"
   ]
  },
  {
   "cell_type": "markdown",
   "metadata": {
    "colab_type": "text",
    "id": "r5TvbnT_Vp-u"
   },
   "source": [
    "# 5. Каково медианное значение длительности фильмов? "
   ]
  },
  {
   "cell_type": "code",
   "execution_count": 23,
   "metadata": {
    "colab": {},
    "colab_type": "code",
    "id": "iBROplKnVp-v"
   },
   "outputs": [],
   "source": [
    "answers['5'] = '107'\n",
    "# \"+\""
   ]
  },
  {
   "cell_type": "code",
   "execution_count": 24,
   "metadata": {},
   "outputs": [
    {
     "data": {
      "text/plain": [
       "107.0"
      ]
     },
     "execution_count": 24,
     "metadata": {},
     "output_type": "execute_result"
    }
   ],
   "source": [
    "data['runtime'].median()"
   ]
  },
  {
   "cell_type": "markdown",
   "metadata": {
    "colab_type": "text",
    "id": "39P-deDSVp-y"
   },
   "source": [
    "# 6. Какой самый прибыльный фильм?\n",
    "#### Внимание! Здесь и далее под «прибылью» или «убытками» понимается разность между сборами и бюджетом фильма. (прибыль = сборы - бюджет) в нашем датасете это будет (profit = revenue - budget) "
   ]
  },
  {
   "cell_type": "code",
   "execution_count": 25,
   "metadata": {
    "colab": {},
    "colab_type": "code",
    "id": "UYZh4T9WVp-y"
   },
   "outputs": [],
   "source": [
    "answers['6'] = 'Avatar (tt0499549)'\n",
    "# \"+\""
   ]
  },
  {
   "cell_type": "code",
   "execution_count": 26,
   "metadata": {},
   "outputs": [
    {
     "data": {
      "text/plain": [
       "imdb_id                                                         tt0499549\n",
       "budget                                                          237000000\n",
       "revenue                                                        2781505847\n",
       "original_title                                                     Avatar\n",
       "cast                    Sam Worthington|Zoe Saldana|Sigourney Weaver|S...\n",
       "director                                                    James Cameron\n",
       "tagline                                       Enter the World of Pandora.\n",
       "overview                In the 22nd century, a paraplegic Marine is di...\n",
       "runtime                                                               162\n",
       "genres                           Action|Adventure|Fantasy|Science Fiction\n",
       "production_companies    Ingenious Film Partners|Twentieth Century Fox ...\n",
       "release_date                                                   12/10/2009\n",
       "vote_average                                                          7.1\n",
       "release_year                                                         2009\n",
       "profit                                                         2544505847\n",
       "month                                                                  12\n",
       "name_len                                                                6\n",
       "word_count                                                             28\n",
       "Name: 239, dtype: object"
      ]
     },
     "execution_count": 26,
     "metadata": {},
     "output_type": "execute_result"
    }
   ],
   "source": [
    "data.loc[data['profit'].idxmax()]"
   ]
  },
  {
   "cell_type": "markdown",
   "metadata": {
    "colab_type": "text",
    "id": "M99JmIX4Vp-2"
   },
   "source": [
    "# 7. Какой фильм самый убыточный? "
   ]
  },
  {
   "cell_type": "code",
   "execution_count": 27,
   "metadata": {
    "colab": {},
    "colab_type": "code",
    "id": "w-D2m4XPVp-3"
   },
   "outputs": [],
   "source": [
    "answers['7'] = 'The Lone Ranger (tt1210819)'\n",
    "# \"+\""
   ]
  },
  {
   "cell_type": "code",
   "execution_count": 28,
   "metadata": {},
   "outputs": [
    {
     "data": {
      "text/plain": [
       "imdb_id                                                         tt1210819\n",
       "budget                                                          255000000\n",
       "revenue                                                          89289910\n",
       "original_title                                            The Lone Ranger\n",
       "cast                    Johnny Depp|Armie Hammer|William Fichtner|Hele...\n",
       "director                                                   Gore Verbinski\n",
       "tagline                                           Never Take Off the Mask\n",
       "overview                The Texas Rangers chase down a gang of outlaws...\n",
       "runtime                                                               149\n",
       "genres                                           Action|Adventure|Western\n",
       "production_companies    Walt Disney Pictures|Jerry Bruckheimer Films|I...\n",
       "release_date                                                     7/3/2013\n",
       "vote_average                                                            6\n",
       "release_year                                                         2013\n",
       "profit                                                         -165710090\n",
       "month                                                                   7\n",
       "name_len                                                               15\n",
       "word_count                                                             68\n",
       "Name: 1245, dtype: object"
      ]
     },
     "execution_count": 28,
     "metadata": {},
     "output_type": "execute_result"
    }
   ],
   "source": [
    "data.loc[data['profit'].idxmin()]"
   ]
  },
  {
   "cell_type": "markdown",
   "metadata": {
    "colab_type": "text",
    "id": "wEOM5ERVVp-6"
   },
   "source": [
    "# 8. У скольких фильмов из датасета объем сборов оказался выше бюджета?"
   ]
  },
  {
   "cell_type": "code",
   "execution_count": 29,
   "metadata": {
    "colab": {},
    "colab_type": "code",
    "id": "y00_7HD6Vp-7"
   },
   "outputs": [],
   "source": [
    "answers['8'] = 1478\n",
    "# \"+\""
   ]
  },
  {
   "cell_type": "code",
   "execution_count": 30,
   "metadata": {},
   "outputs": [
    {
     "name": "stdout",
     "output_type": "stream",
     "text": [
      "<class 'pandas.core.frame.DataFrame'>\n",
      "Int64Index: 1478 entries, 0 to 1884\n",
      "Data columns (total 18 columns):\n",
      " #   Column                Non-Null Count  Dtype  \n",
      "---  ------                --------------  -----  \n",
      " 0   imdb_id               1478 non-null   object \n",
      " 1   budget                1478 non-null   int64  \n",
      " 2   revenue               1478 non-null   int64  \n",
      " 3   original_title        1478 non-null   object \n",
      " 4   cast                  1478 non-null   object \n",
      " 5   director              1478 non-null   object \n",
      " 6   tagline               1478 non-null   object \n",
      " 7   overview              1478 non-null   object \n",
      " 8   runtime               1478 non-null   int64  \n",
      " 9   genres                1478 non-null   object \n",
      " 10  production_companies  1478 non-null   object \n",
      " 11  release_date          1478 non-null   object \n",
      " 12  vote_average          1478 non-null   float64\n",
      " 13  release_year          1478 non-null   int64  \n",
      " 14  profit                1478 non-null   int64  \n",
      " 15  month                 1478 non-null   int64  \n",
      " 16  name_len              1478 non-null   int64  \n",
      " 17  word_count            1478 non-null   int64  \n",
      "dtypes: float64(1), int64(8), object(9)\n",
      "memory usage: 219.4+ KB\n"
     ]
    }
   ],
   "source": [
    "data_plus = data[(data['profit']) > 0]\n",
    "data_plus.info()"
   ]
  },
  {
   "cell_type": "markdown",
   "metadata": {
    "colab_type": "text",
    "id": "xhpspA9KVp_A"
   },
   "source": [
    "# 9. Какой фильм оказался самым кассовым в 2008 году?"
   ]
  },
  {
   "cell_type": "code",
   "execution_count": 31,
   "metadata": {
    "colab": {},
    "colab_type": "code",
    "id": "MoUyQr9RVp_B"
   },
   "outputs": [],
   "source": [
    "answers['9'] = 'The Dark Knight (tt0468569)'\n",
    "# \"+\""
   ]
  },
  {
   "cell_type": "code",
   "execution_count": 32,
   "metadata": {},
   "outputs": [
    {
     "data": {
      "text/plain": [
       "imdb_id                                                         tt0468569\n",
       "budget                                                          185000000\n",
       "revenue                                                        1001921825\n",
       "original_title                                            The Dark Knight\n",
       "cast                    Christian Bale|Michael Caine|Heath Ledger|Aaro...\n",
       "director                                                Christopher Nolan\n",
       "tagline                                                   Why So Serious?\n",
       "overview                Batman raises the stakes in his war on crime. ...\n",
       "runtime                                                               152\n",
       "genres                                        Drama|Action|Crime|Thriller\n",
       "production_companies    DC Comics|Legendary Pictures|Warner Bros.|Syncopy\n",
       "release_date                                                    7/16/2008\n",
       "vote_average                                                          8.1\n",
       "release_year                                                         2008\n",
       "profit                                                          816921825\n",
       "month                                                                   7\n",
       "name_len                                                               15\n",
       "word_count                                                             67\n",
       "Name: 599, dtype: object"
      ]
     },
     "execution_count": 32,
     "metadata": {},
     "output_type": "execute_result"
    }
   ],
   "source": [
    "data.loc[data[(data['release_year'] == 2008)]['revenue'].idxmax()]"
   ]
  },
  {
   "cell_type": "markdown",
   "metadata": {
    "colab_type": "text",
    "id": "Zi4hDKidVp_F"
   },
   "source": [
    "# 10. Самый убыточный фильм за период с 2012 по 2014 г. (включительно)?\n"
   ]
  },
  {
   "cell_type": "code",
   "execution_count": 33,
   "metadata": {
    "colab": {},
    "colab_type": "code",
    "id": "XqyRmufJVp_F"
   },
   "outputs": [],
   "source": [
    "answers['10'] = 'The Lone Ranger (tt1210819)'\n",
    "# \"+\""
   ]
  },
  {
   "cell_type": "code",
   "execution_count": 34,
   "metadata": {},
   "outputs": [
    {
     "data": {
      "text/plain": [
       "imdb_id                                                         tt1210819\n",
       "budget                                                          255000000\n",
       "revenue                                                          89289910\n",
       "original_title                                            The Lone Ranger\n",
       "cast                    Johnny Depp|Armie Hammer|William Fichtner|Hele...\n",
       "director                                                   Gore Verbinski\n",
       "tagline                                           Never Take Off the Mask\n",
       "overview                The Texas Rangers chase down a gang of outlaws...\n",
       "runtime                                                               149\n",
       "genres                                           Action|Adventure|Western\n",
       "production_companies    Walt Disney Pictures|Jerry Bruckheimer Films|I...\n",
       "release_date                                                     7/3/2013\n",
       "vote_average                                                            6\n",
       "release_year                                                         2013\n",
       "profit                                                         -165710090\n",
       "month                                                                   7\n",
       "name_len                                                               15\n",
       "word_count                                                             68\n",
       "Name: 1245, dtype: object"
      ]
     },
     "execution_count": 34,
     "metadata": {},
     "output_type": "execute_result"
    }
   ],
   "source": [
    "data.loc[data[(data['release_year'] > 2011) & (data['release_year'] < 2015)]['profit'].idxmin()]"
   ]
  },
  {
   "cell_type": "markdown",
   "metadata": {
    "colab_type": "text",
    "id": "EA7Sa9dkVp_I"
   },
   "source": [
    "# 11. Какого жанра фильмов больше всего?"
   ]
  },
  {
   "cell_type": "code",
   "execution_count": 35,
   "metadata": {
    "colab": {},
    "colab_type": "code",
    "id": "zsJAwJ8QVp_J"
   },
   "outputs": [],
   "source": [
    "answers['11'] = 'Drama'\n",
    "# \"+\""
   ]
  },
  {
   "cell_type": "code",
   "execution_count": 36,
   "metadata": {
    "colab": {},
    "colab_type": "code",
    "id": "otO3SbrSVp_N"
   },
   "outputs": [
    {
     "data": {
      "text/plain": [
       "[('Drama', 782),\n",
       " ('Comedy', 683),\n",
       " ('Thriller', 596),\n",
       " ('Action', 582),\n",
       " ('Adventure', 415)]"
      ]
     },
     "execution_count": 36,
     "metadata": {},
     "output_type": "execute_result"
    }
   ],
   "source": [
    "Counter(data['genres'].str.cat(sep=\"|\").split('|')).most_common(5)"
   ]
  },
  {
   "cell_type": "markdown",
   "metadata": {
    "colab_type": "text",
    "id": "T9_bPWpkVp_Q"
   },
   "source": [
    "# 12. Фильмы какого жанра чаще всего становятся прибыльными? "
   ]
  },
  {
   "cell_type": "code",
   "execution_count": 37,
   "metadata": {
    "colab": {},
    "colab_type": "code",
    "id": "Tmt8MaK1Vp_R"
   },
   "outputs": [],
   "source": [
    "answers['12'] = 'Drama'\n",
    "# \"+\""
   ]
  },
  {
   "cell_type": "code",
   "execution_count": 38,
   "metadata": {},
   "outputs": [
    {
     "data": {
      "text/plain": [
       "[('Drama', 560),\n",
       " ('Comedy', 551),\n",
       " ('Thriller', 446),\n",
       " ('Action', 444),\n",
       " ('Adventure', 337)]"
      ]
     },
     "execution_count": 38,
     "metadata": {},
     "output_type": "execute_result"
    }
   ],
   "source": [
    "Counter(data[(data['profit']) > 0]['genres'].str.cat(sep=\"|\").split('|')).most_common(5)"
   ]
  },
  {
   "cell_type": "markdown",
   "metadata": {
    "colab_type": "text",
    "id": "0F23bgsDVp_U"
   },
   "source": [
    "# 13. У какого режиссера самые большие суммарные кассовые сбооры?"
   ]
  },
  {
   "cell_type": "code",
   "execution_count": 39,
   "metadata": {
    "colab": {},
    "colab_type": "code",
    "id": "K6Z3J8ygVp_X"
   },
   "outputs": [],
   "source": [
    "answers['13'] = 'Peter Jackson'\n",
    "# \"+\""
   ]
  },
  {
   "cell_type": "code",
   "execution_count": 40,
   "metadata": {},
   "outputs": [
    {
     "data": {
      "text/plain": [
       "Peter Jackson        6490593685\n",
       "Christopher Nolan    4167548502\n",
       "David Yates          4154295625\n",
       "Michael Bay          3886938960\n",
       "J.J. Abrams          3579169916\n",
       "                        ...    \n",
       "David MichÃ´d           2295423\n",
       "Steven Shainberg        2281089\n",
       "Paul Schrader           2062066\n",
       "Keanu Reeves            2054941\n",
       "Simon Hunter            2033165\n",
       "Length: 997, dtype: int64"
      ]
     },
     "execution_count": 40,
     "metadata": {},
     "output_type": "execute_result"
    }
   ],
   "source": [
    "directors = pd.Series(data['director'].str.cat(sep='|').split('|')).value_counts(ascending=False)\n",
    "for dir in directors.index:\n",
    "    directors[dir] = data['revenue'][data['director'].apply(lambda x: True if dir in x else False)].sum()\n",
    "directors.sort_values(ascending=False)"
   ]
  },
  {
   "cell_type": "markdown",
   "metadata": {
    "colab_type": "text",
    "id": "PsYC9FgRVp_a"
   },
   "source": [
    "# 14. Какой режисер снял больше всего фильмов в стиле Action?"
   ]
  },
  {
   "cell_type": "code",
   "execution_count": 41,
   "metadata": {
    "colab": {},
    "colab_type": "code",
    "id": "wd2M-wHeVp_b"
   },
   "outputs": [],
   "source": [
    "answers['14'] = 'Robert Rodriguez'\n",
    "# \"+\""
   ]
  },
  {
   "cell_type": "code",
   "execution_count": 42,
   "metadata": {},
   "outputs": [
    {
     "data": {
      "text/plain": [
       "Robert Rodriguez      9\n",
       "Paul W.S. Anderson    7\n",
       "Michael Bay           7\n",
       "Antoine Fuqua         6\n",
       "Ridley Scott          6\n",
       "dtype: int64"
      ]
     },
     "execution_count": 42,
     "metadata": {},
     "output_type": "execute_result"
    }
   ],
   "source": [
    "action_movies = data[data.genres.str.contains('Action')]\n",
    "directors = pd.Series(action_movies['director'].str.cat(sep='|').split('|')).value_counts(ascending=False)\n",
    "directors.head()"
   ]
  },
  {
   "cell_type": "markdown",
   "metadata": {
    "colab_type": "text",
    "id": "PQ0KciD7Vp_f"
   },
   "source": [
    "# 15. Фильмы с каким актером принесли самые высокие кассовые сборы в 2012 году? "
   ]
  },
  {
   "cell_type": "code",
   "execution_count": 43,
   "metadata": {
    "colab": {},
    "colab_type": "code",
    "id": "aga62oeKVp_g"
   },
   "outputs": [],
   "source": [
    "answers['15'] = 'Chris Hemsworth'\n",
    "# \"+\""
   ]
  },
  {
   "cell_type": "code",
   "execution_count": 44,
   "metadata": {},
   "outputs": [
    {
     "data": {
      "text/plain": [
       "Chris Hemsworth      2027450773\n",
       "Denis Leary          1629460639\n",
       "Anne Hathaway        1522851057\n",
       "Robert Downey Jr.    1519557910\n",
       "Mark Ruffalo         1519557910\n",
       "                        ...    \n",
       "Jason Bateman           3428048\n",
       "Josh Lucas              2106557\n",
       "Sami Gayle              2106557\n",
       "Nicolas Cage            2106557\n",
       "Danny Huston            2106557\n",
       "Length: 466, dtype: int64"
      ]
     },
     "execution_count": 44,
     "metadata": {},
     "output_type": "execute_result"
    }
   ],
   "source": [
    "actor_hrevenue = data.query('release_year == 2012')\n",
    "\n",
    "cast = pd.Series(actor_hrevenue['cast'].str.cat(sep='|').split('|')) #сериес с актерами\n",
    "cast = cast.value_counts(ascending=False)\n",
    "for actor in cast.index:\n",
    "    cast[actor] = actor_hrevenue['revenue'][actor_hrevenue['cast'].apply(lambda x: True if actor in x else False)].sum()\n",
    "cast.sort_values(ascending=False)"
   ]
  },
  {
   "cell_type": "markdown",
   "metadata": {
    "colab_type": "text",
    "id": "mWHyyL7QVp_j"
   },
   "source": [
    "# 16. Какой актер снялся в большем количестве высокобюджетных фильмов?"
   ]
  },
  {
   "cell_type": "code",
   "execution_count": 45,
   "metadata": {
    "colab": {},
    "colab_type": "code",
    "id": "qQtmHKTFVp_k"
   },
   "outputs": [],
   "source": [
    "answers['16'] = 'Matt Damon'\n",
    "# \"+\""
   ]
  },
  {
   "cell_type": "code",
   "execution_count": 46,
   "metadata": {},
   "outputs": [
    {
     "data": {
      "text/plain": [
       "Matt Damon           18\n",
       "Adam Sandler         17\n",
       "Angelina Jolie       16\n",
       "Samuel L. Jackson    15\n",
       "Eddie Murphy         15\n",
       "dtype: int64"
      ]
     },
     "execution_count": 46,
     "metadata": {},
     "output_type": "execute_result"
    }
   ],
   "source": [
    "high_budget = data.query('budget > budget.mean()')\n",
    "actors = pd.Series(high_budget['cast'].str.cat(sep='|').split('|')).value_counts(ascending=False)\n",
    "actors.head()"
   ]
  },
  {
   "cell_type": "markdown",
   "metadata": {
    "colab_type": "text",
    "id": "NIh6AaW5Vp_n"
   },
   "source": [
    "# 17. В фильмах какого жанра больше всего снимался Nicolas Cage? "
   ]
  },
  {
   "cell_type": "code",
   "execution_count": 47,
   "metadata": {
    "colab": {},
    "colab_type": "code",
    "id": "H74SJDIBVp_n"
   },
   "outputs": [],
   "source": [
    "answers['17'] = 'Action'\n",
    "# \"+\""
   ]
  },
  {
   "cell_type": "code",
   "execution_count": 48,
   "metadata": {},
   "outputs": [
    {
     "data": {
      "text/plain": [
       "Action      17\n",
       "Thriller    15\n",
       "Drama       12\n",
       "Crime       10\n",
       "Fantasy      8\n",
       "dtype: int64"
      ]
     },
     "execution_count": 48,
     "metadata": {},
     "output_type": "execute_result"
    }
   ],
   "source": [
    "ncage = data[data.cast.str.contains('Nicolas Cage')]\n",
    "genres = pd.Series(ncage['genres'].str.cat(sep='|').split('|')).value_counts(ascending=False) #сериес с актерами\n",
    "genres.head()"
   ]
  },
  {
   "cell_type": "markdown",
   "metadata": {
    "colab_type": "text",
    "id": "RqOmPRfWVp_q"
   },
   "source": [
    "# 18. Самый убыточный фильм от Paramount Pictures"
   ]
  },
  {
   "cell_type": "code",
   "execution_count": 49,
   "metadata": {
    "colab": {},
    "colab_type": "code",
    "id": "9E_B0Y96Vp_r"
   },
   "outputs": [],
   "source": [
    "answers['18'] = 'K-19: The Widowmaker (tt0267626)'\n",
    "# \"+\""
   ]
  },
  {
   "cell_type": "code",
   "execution_count": 50,
   "metadata": {},
   "outputs": [
    {
     "data": {
      "text/plain": [
       "imdb_id                                                         tt0267626\n",
       "budget                                                          100000000\n",
       "revenue                                                          35168966\n",
       "original_title                                       K-19: The Widowmaker\n",
       "cast                    Harrison Ford|Liam Neeson|Peter Sarsgaard|Joss...\n",
       "director                                                  Kathryn Bigelow\n",
       "tagline                                          Fate has found its hero.\n",
       "overview                When Russia's first nuclear submarine malfunct...\n",
       "runtime                                                               138\n",
       "genres                                             Thriller|Drama|History\n",
       "production_companies    Paramount Pictures|Intermedia Films|National G...\n",
       "release_date                                                    7/19/2002\n",
       "vote_average                                                            6\n",
       "release_year                                                         2002\n",
       "profit                                                          -64831034\n",
       "month                                                                   7\n",
       "name_len                                                               20\n",
       "word_count                                                             23\n",
       "Name: 925, dtype: object"
      ]
     },
     "execution_count": 50,
     "metadata": {},
     "output_type": "execute_result"
    }
   ],
   "source": [
    "pm = data[data.production_companies.str.contains('Paramount Pictures')]\n",
    "pm.loc[pm['profit'].idxmin()]"
   ]
  },
  {
   "cell_type": "markdown",
   "metadata": {
    "colab_type": "text",
    "id": "vS8Ur6ddVp_u"
   },
   "source": [
    "# 19. Какой год стал самым успешным по суммарным кассовым сборам?"
   ]
  },
  {
   "cell_type": "code",
   "execution_count": 51,
   "metadata": {
    "colab": {},
    "colab_type": "code",
    "id": "Dnbt4GdIVp_v"
   },
   "outputs": [],
   "source": [
    "answers['19'] = 2015\n",
    "# \"+\""
   ]
  },
  {
   "cell_type": "code",
   "execution_count": 52,
   "metadata": {},
   "outputs": [
    {
     "data": {
      "text/plain": [
       "release_year\n",
       "2015    25449202382\n",
       "2014    23405862953\n",
       "2013    23213799791\n",
       "2012    23079001687\n",
       "2011    22676791872\n",
       "2010    21071204961\n",
       "2009    20261791024\n",
       "2008    18252781990\n",
       "2007    18162406801\n",
       "2004    15663430720\n",
       "2005    15309425558\n",
       "2006    14775042320\n",
       "2003    14346123312\n",
       "2002    14136361487\n",
       "2001    13017764865\n",
       "2000    10664099805\n",
       "Name: revenue, dtype: int64"
      ]
     },
     "execution_count": 52,
     "metadata": {},
     "output_type": "execute_result"
    }
   ],
   "source": [
    "data.groupby(['release_year'])['revenue'].sum().sort_values(ascending=False)"
   ]
  },
  {
   "cell_type": "markdown",
   "metadata": {
    "colab_type": "text",
    "id": "JAzJh4QAVp_z"
   },
   "source": [
    "# 20. Какой самый прибыльный год для студии Warner Bros?"
   ]
  },
  {
   "cell_type": "code",
   "execution_count": 53,
   "metadata": {
    "colab": {},
    "colab_type": "code",
    "id": "wgVu02DEVp_0"
   },
   "outputs": [],
   "source": [
    "answers['20'] = 2014\n",
    "# \"+\""
   ]
  },
  {
   "cell_type": "code",
   "execution_count": 54,
   "metadata": {},
   "outputs": [
    {
     "data": {
      "text/plain": [
       "release_year\n",
       "2014    2295464519\n",
       "2007    2201675217\n",
       "2008    2134595031\n",
       "2010    1974712985\n",
       "2011    1871393682\n",
       "2003    1855493377\n",
       "2009    1822454136\n",
       "2013    1636453400\n",
       "2004    1631933725\n",
       "2005    1551980298\n",
       "2001    1343545668\n",
       "2012    1258020056\n",
       "2002    1022709901\n",
       "2015     870368348\n",
       "2006     620170743\n",
       "2000     452631386\n",
       "Name: profit, dtype: int64"
      ]
     },
     "execution_count": 54,
     "metadata": {},
     "output_type": "execute_result"
    }
   ],
   "source": [
    "wb = data[data.production_companies.str.contains('Warner Bros')]\n",
    "wb.groupby(['release_year'])['profit'].sum().sort_values(ascending=False)"
   ]
  },
  {
   "cell_type": "markdown",
   "metadata": {
    "colab_type": "text",
    "id": "8Im1S2HRVp_4"
   },
   "source": [
    "# 21. В каком месяце за все годы суммарно вышло больше всего фильмов?"
   ]
  },
  {
   "cell_type": "code",
   "execution_count": 55,
   "metadata": {
    "colab": {},
    "colab_type": "code",
    "id": "lev6TH7gVp_4"
   },
   "outputs": [],
   "source": [
    "answers['21'] = 'Сентябрь'\n",
    "# \"+\""
   ]
  },
  {
   "cell_type": "code",
   "execution_count": 56,
   "metadata": {},
   "outputs": [
    {
     "data": {
      "text/plain": [
       "9     227\n",
       "12    190\n",
       "10    186\n",
       "8     161\n",
       "3     156\n",
       "4     149\n",
       "6     147\n",
       "11    146\n",
       "7     142\n",
       "5     140\n",
       "2     135\n",
       "1     110\n",
       "Name: month, dtype: int64"
      ]
     },
     "execution_count": 56,
     "metadata": {},
     "output_type": "execute_result"
    }
   ],
   "source": [
    "data['month'].value_counts()"
   ]
  },
  {
   "cell_type": "markdown",
   "metadata": {
    "colab_type": "text",
    "id": "uAJsZ_NeVp_7"
   },
   "source": [
    "# 22. Сколько суммарно вышло фильмов летом? (за июнь, июль, август)"
   ]
  },
  {
   "cell_type": "code",
   "execution_count": 57,
   "metadata": {
    "colab": {},
    "colab_type": "code",
    "id": "Aa-hEREoVp_8"
   },
   "outputs": [],
   "source": [
    "answers['22'] = 450\n",
    "# \"+\""
   ]
  },
  {
   "cell_type": "code",
   "execution_count": 58,
   "metadata": {},
   "outputs": [
    {
     "data": {
      "text/plain": [
       "450"
      ]
     },
     "execution_count": 58,
     "metadata": {},
     "output_type": "execute_result"
    }
   ],
   "source": [
    "data.month[(data.month == 6) | (data.month == 7) | (data.month == 8)].count()"
   ]
  },
  {
   "cell_type": "markdown",
   "metadata": {
    "colab_type": "text",
    "id": "G94ppOY1VqAA"
   },
   "source": [
    "# 23. Для какого режиссера зима – самое продуктивное время года? "
   ]
  },
  {
   "cell_type": "code",
   "execution_count": 59,
   "metadata": {
    "colab": {},
    "colab_type": "code",
    "id": "RhNTsamuVqAB"
   },
   "outputs": [],
   "source": [
    "answers['23'] = 'Peter Jackson'\n",
    "# \"+\""
   ]
  },
  {
   "cell_type": "code",
   "execution_count": 60,
   "metadata": {},
   "outputs": [
    {
     "data": {
      "text/plain": [
       "Peter Jackson        7\n",
       "Clint Eastwood       6\n",
       "Steven Soderbergh    6\n",
       "Adam Shankman        4\n",
       "Martin Scorsese      4\n",
       "dtype: int64"
      ]
     },
     "execution_count": 60,
     "metadata": {},
     "output_type": "execute_result"
    }
   ],
   "source": [
    "winter = data.query('month in [1, 2, 12]')\n",
    "directors = pd.Series(winter['director'].str.cat(sep='|').split('|')).value_counts(ascending=False)\n",
    "directors.head()"
   ]
  },
  {
   "cell_type": "markdown",
   "metadata": {
    "colab_type": "text",
    "id": "RBo0JVjVVqAF"
   },
   "source": [
    "# 24. Какая студия дает самые длинные названия своим фильмам по количеству символов?"
   ]
  },
  {
   "cell_type": "code",
   "execution_count": 61,
   "metadata": {
    "colab": {},
    "colab_type": "code",
    "id": "QRGS8L0iVqAG"
   },
   "outputs": [],
   "source": [
    "answers['24'] = 'Four By Two Productions'\n",
    "# \"+\""
   ]
  },
  {
   "cell_type": "code",
   "execution_count": 62,
   "metadata": {},
   "outputs": [
    {
     "data": {
      "text/plain": [
       "Four By Two Productions       83\n",
       "Jim Henson Company, The       59\n",
       "Dos Corazones                 47\n",
       "Museum Canada Productions     46\n",
       "Polsky Films                  46\n",
       "                              ..\n",
       "Berlanti Productions           3\n",
       "Everest Entertainment          3\n",
       "Ixtlan Productions             2\n",
       "XM2 Productions                2\n",
       "Global Entertainment Group     2\n",
       "Length: 1771, dtype: int64"
      ]
     },
     "execution_count": 62,
     "metadata": {},
     "output_type": "execute_result"
    }
   ],
   "source": [
    "companies = pd.Series(data.production_companies.str.cat(sep='|').split('|')) # сериес с компаниями\n",
    "companies=companies.value_counts(ascending=False)\n",
    "\n",
    "for comp in companies.index:\n",
    "    companies[comp] = data['name_len'][data['production_companies'].apply(lambda x: True if comp in x else False)].mean()\n",
    "companies.sort_values(ascending=False)"
   ]
  },
  {
   "cell_type": "markdown",
   "metadata": {
    "colab_type": "text",
    "id": "9G0hbvR7VqAK"
   },
   "source": [
    "# 25. Описание фильмов какой студии в среднем самые длинные по количеству слов?"
   ]
  },
  {
   "cell_type": "code",
   "execution_count": 63,
   "metadata": {
    "colab": {},
    "colab_type": "code",
    "id": "Ge2GsLNxVqAK"
   },
   "outputs": [],
   "source": [
    "answers['25'] = 'Midnight Picture Show'\n",
    "# \"+\""
   ]
  },
  {
   "cell_type": "code",
   "execution_count": 64,
   "metadata": {},
   "outputs": [
    {
     "data": {
      "text/plain": [
       "Midnight Picture Show                          175\n",
       "Room 9 Entertainment                           161\n",
       "Heineken Branded Entertainment                 161\n",
       "98 MPH Productions                             159\n",
       "Brookwell-McNamara Entertainment               156\n",
       "                                              ... \n",
       "Phantom Four                                    13\n",
       "Projection Pictures                             13\n",
       "Sony Pictures Worldwide Acquisitions (SPWA)     13\n",
       "Empire Pictures                                 11\n",
       "Motion Picture Corporation of America           11\n",
       "Length: 1771, dtype: int64"
      ]
     },
     "execution_count": 64,
     "metadata": {},
     "output_type": "execute_result"
    }
   ],
   "source": [
    "companies = pd.Series(data.production_companies.str.cat(sep='|').split('|')) # сериес с компаниями\n",
    "companies=companies.value_counts(ascending=False)\n",
    "\n",
    "for comp in companies.index:\n",
    "    companies[comp] = data['word_count'][data['production_companies'].apply(lambda x: True if comp in x else False)].mean()\n",
    "    #суммируем \n",
    "companies.sort_values(ascending=False)"
   ]
  },
  {
   "cell_type": "markdown",
   "metadata": {
    "colab_type": "text",
    "id": "FJ1AFt90VqAP"
   },
   "source": [
    "# 26. Какие фильмы входят в 1 процент лучших по рейтингу? \n",
    "по vote_average"
   ]
  },
  {
   "cell_type": "code",
   "execution_count": 65,
   "metadata": {
    "colab": {},
    "colab_type": "code",
    "id": "8qmJVq4CVqAQ"
   },
   "outputs": [],
   "source": [
    "answers['26'] = 'Peter Jackson'\n",
    "# \"+\""
   ]
  },
  {
   "cell_type": "code",
   "execution_count": 66,
   "metadata": {},
   "outputs": [
    {
     "data": {
      "text/html": [
       "<div>\n",
       "<style scoped>\n",
       "    .dataframe tbody tr th:only-of-type {\n",
       "        vertical-align: middle;\n",
       "    }\n",
       "\n",
       "    .dataframe tbody tr th {\n",
       "        vertical-align: top;\n",
       "    }\n",
       "\n",
       "    .dataframe thead th {\n",
       "        text-align: right;\n",
       "    }\n",
       "</style>\n",
       "<table border=\"1\" class=\"dataframe\">\n",
       "  <thead>\n",
       "    <tr style=\"text-align: right;\">\n",
       "      <th></th>\n",
       "      <th>imdb_id</th>\n",
       "      <th>budget</th>\n",
       "      <th>revenue</th>\n",
       "      <th>original_title</th>\n",
       "      <th>cast</th>\n",
       "      <th>director</th>\n",
       "      <th>tagline</th>\n",
       "      <th>overview</th>\n",
       "      <th>runtime</th>\n",
       "      <th>genres</th>\n",
       "      <th>production_companies</th>\n",
       "      <th>release_date</th>\n",
       "      <th>vote_average</th>\n",
       "      <th>release_year</th>\n",
       "      <th>profit</th>\n",
       "      <th>month</th>\n",
       "      <th>name_len</th>\n",
       "      <th>word_count</th>\n",
       "    </tr>\n",
       "  </thead>\n",
       "  <tbody>\n",
       "    <tr>\n",
       "      <th>599</th>\n",
       "      <td>tt0468569</td>\n",
       "      <td>185000000</td>\n",
       "      <td>1001921825</td>\n",
       "      <td>The Dark Knight</td>\n",
       "      <td>Christian Bale|Michael Caine|Heath Ledger|Aaro...</td>\n",
       "      <td>Christopher Nolan</td>\n",
       "      <td>Why So Serious?</td>\n",
       "      <td>Batman raises the stakes in his war on crime. ...</td>\n",
       "      <td>152</td>\n",
       "      <td>Drama|Action|Crime|Thriller</td>\n",
       "      <td>DC Comics|Legendary Pictures|Warner Bros.|Syncopy</td>\n",
       "      <td>7/16/2008</td>\n",
       "      <td>8.1</td>\n",
       "      <td>2008</td>\n",
       "      <td>816921825</td>\n",
       "      <td>7</td>\n",
       "      <td>15</td>\n",
       "      <td>67</td>\n",
       "    </tr>\n",
       "    <tr>\n",
       "      <th>118</th>\n",
       "      <td>tt0816692</td>\n",
       "      <td>165000000</td>\n",
       "      <td>621752480</td>\n",
       "      <td>Interstellar</td>\n",
       "      <td>Matthew McConaughey|Jessica Chastain|Anne Hath...</td>\n",
       "      <td>Christopher Nolan</td>\n",
       "      <td>Mankind was born on Earth. It was never meant ...</td>\n",
       "      <td>Interstellar chronicles the adventures of a gr...</td>\n",
       "      <td>169</td>\n",
       "      <td>Adventure|Drama|Science Fiction</td>\n",
       "      <td>Paramount Pictures|Legendary Pictures|Warner B...</td>\n",
       "      <td>11/5/2014</td>\n",
       "      <td>8.0</td>\n",
       "      <td>2014</td>\n",
       "      <td>456752480</td>\n",
       "      <td>11</td>\n",
       "      <td>12</td>\n",
       "      <td>35</td>\n",
       "    </tr>\n",
       "    <tr>\n",
       "      <th>125</th>\n",
       "      <td>tt2084970</td>\n",
       "      <td>14000000</td>\n",
       "      <td>233555708</td>\n",
       "      <td>The Imitation Game</td>\n",
       "      <td>Benedict Cumberbatch|Keira Knightley|Matthew G...</td>\n",
       "      <td>Morten Tyldum</td>\n",
       "      <td>The true enigma was the man who cracked the code.</td>\n",
       "      <td>Based on the real life story of legendary cryp...</td>\n",
       "      <td>113</td>\n",
       "      <td>History|Drama|Thriller|War</td>\n",
       "      <td>Black Bear Pictures|Bristol Automotive</td>\n",
       "      <td>11/14/2014</td>\n",
       "      <td>8.0</td>\n",
       "      <td>2014</td>\n",
       "      <td>219555708</td>\n",
       "      <td>11</td>\n",
       "      <td>18</td>\n",
       "      <td>46</td>\n",
       "    </tr>\n",
       "    <tr>\n",
       "      <th>9</th>\n",
       "      <td>tt2096673</td>\n",
       "      <td>175000000</td>\n",
       "      <td>853708609</td>\n",
       "      <td>Inside Out</td>\n",
       "      <td>Amy Poehler|Phyllis Smith|Richard Kind|Bill Ha...</td>\n",
       "      <td>Pete Docter</td>\n",
       "      <td>Meet the little voices inside your head.</td>\n",
       "      <td>Growing up can be a bumpy road, and it's no ex...</td>\n",
       "      <td>94</td>\n",
       "      <td>Comedy|Animation|Family</td>\n",
       "      <td>Walt Disney Pictures|Pixar Animation Studios|W...</td>\n",
       "      <td>6/9/2015</td>\n",
       "      <td>8.0</td>\n",
       "      <td>2015</td>\n",
       "      <td>678708609</td>\n",
       "      <td>6</td>\n",
       "      <td>10</td>\n",
       "      <td>112</td>\n",
       "    </tr>\n",
       "    <tr>\n",
       "      <th>34</th>\n",
       "      <td>tt3170832</td>\n",
       "      <td>6000000</td>\n",
       "      <td>35401758</td>\n",
       "      <td>Room</td>\n",
       "      <td>Brie Larson|Jacob Tremblay|Joan Allen|Sean Bri...</td>\n",
       "      <td>Lenny Abrahamson</td>\n",
       "      <td>Love knows no boundaries</td>\n",
       "      <td>Jack is a young boy of 5 years old who has liv...</td>\n",
       "      <td>117</td>\n",
       "      <td>Drama|Thriller</td>\n",
       "      <td>Element Pictures|No Trace Camping|A24|Duperele...</td>\n",
       "      <td>10/16/2015</td>\n",
       "      <td>8.0</td>\n",
       "      <td>2015</td>\n",
       "      <td>29401758</td>\n",
       "      <td>10</td>\n",
       "      <td>4</td>\n",
       "      <td>49</td>\n",
       "    </tr>\n",
       "    <tr>\n",
       "      <th>1183</th>\n",
       "      <td>tt0993846</td>\n",
       "      <td>100000000</td>\n",
       "      <td>392000694</td>\n",
       "      <td>The Wolf of Wall Street</td>\n",
       "      <td>Leonardo DiCaprio|Jonah Hill|Margot Robbie|Kyl...</td>\n",
       "      <td>Martin Scorsese</td>\n",
       "      <td>EARN. SPEND. PARTY.</td>\n",
       "      <td>A New York stockbroker refuses to cooperate in...</td>\n",
       "      <td>180</td>\n",
       "      <td>Crime|Drama|Comedy</td>\n",
       "      <td>Paramount Pictures|Appian Way|EMJAG Production...</td>\n",
       "      <td>12/25/2013</td>\n",
       "      <td>7.9</td>\n",
       "      <td>2013</td>\n",
       "      <td>292000694</td>\n",
       "      <td>12</td>\n",
       "      <td>23</td>\n",
       "      <td>29</td>\n",
       "    </tr>\n",
       "    <tr>\n",
       "      <th>128</th>\n",
       "      <td>tt2267998</td>\n",
       "      <td>61000000</td>\n",
       "      <td>369330363</td>\n",
       "      <td>Gone Girl</td>\n",
       "      <td>Ben Affleck|Rosamund Pike|Carrie Coon|Neil Pat...</td>\n",
       "      <td>David Fincher</td>\n",
       "      <td>You don't know what you've got 'til it's...</td>\n",
       "      <td>With his wife's disappearance having become th...</td>\n",
       "      <td>145</td>\n",
       "      <td>Mystery|Thriller|Drama</td>\n",
       "      <td>Twentieth Century Fox Film Corporation|Regency...</td>\n",
       "      <td>10/1/2014</td>\n",
       "      <td>7.9</td>\n",
       "      <td>2014</td>\n",
       "      <td>308330363</td>\n",
       "      <td>10</td>\n",
       "      <td>9</td>\n",
       "      <td>30</td>\n",
       "    </tr>\n",
       "    <tr>\n",
       "      <th>1191</th>\n",
       "      <td>tt2024544</td>\n",
       "      <td>20000000</td>\n",
       "      <td>187000000</td>\n",
       "      <td>12 Years a Slave</td>\n",
       "      <td>Chiwetel Ejiofor|Michael Fassbender|Lupita Nyo...</td>\n",
       "      <td>Steve McQueen</td>\n",
       "      <td>The extraordinary true story of Solomon Northup</td>\n",
       "      <td>In the pre-Civil War United States, Solomon No...</td>\n",
       "      <td>134</td>\n",
       "      <td>Drama|History</td>\n",
       "      <td>Plan B Entertainment|Regency Enterprises|River...</td>\n",
       "      <td>10/18/2013</td>\n",
       "      <td>7.9</td>\n",
       "      <td>2013</td>\n",
       "      <td>167000000</td>\n",
       "      <td>10</td>\n",
       "      <td>16</td>\n",
       "      <td>61</td>\n",
       "    </tr>\n",
       "    <tr>\n",
       "      <th>119</th>\n",
       "      <td>tt2015381</td>\n",
       "      <td>170000000</td>\n",
       "      <td>773312399</td>\n",
       "      <td>Guardians of the Galaxy</td>\n",
       "      <td>Chris Pratt|Zoe Saldana|Dave Bautista|Vin Dies...</td>\n",
       "      <td>James Gunn</td>\n",
       "      <td>All heroes start somewhere.</td>\n",
       "      <td>Light years from Earth, 26 years after being a...</td>\n",
       "      <td>121</td>\n",
       "      <td>Action|Science Fiction|Adventure</td>\n",
       "      <td>Marvel Studios|Moving Picture Company (MPC)|Bu...</td>\n",
       "      <td>7/30/2014</td>\n",
       "      <td>7.9</td>\n",
       "      <td>2014</td>\n",
       "      <td>603312399</td>\n",
       "      <td>7</td>\n",
       "      <td>23</td>\n",
       "      <td>28</td>\n",
       "    </tr>\n",
       "    <tr>\n",
       "      <th>1081</th>\n",
       "      <td>tt0167260</td>\n",
       "      <td>94000000</td>\n",
       "      <td>1118888979</td>\n",
       "      <td>The Lord of the Rings: The Return of the King</td>\n",
       "      <td>Elijah Wood|Ian McKellen|Viggo Mortensen|Liv T...</td>\n",
       "      <td>Peter Jackson</td>\n",
       "      <td>The eye of the enemy is moving.</td>\n",
       "      <td>Aragorn is revealed as the heir to the ancient...</td>\n",
       "      <td>201</td>\n",
       "      <td>Adventure|Fantasy|Action</td>\n",
       "      <td>WingNut Films|New Line Cinema</td>\n",
       "      <td>12/1/2003</td>\n",
       "      <td>7.9</td>\n",
       "      <td>2003</td>\n",
       "      <td>1024888979</td>\n",
       "      <td>12</td>\n",
       "      <td>45</td>\n",
       "      <td>45</td>\n",
       "    </tr>\n",
       "    <tr>\n",
       "      <th>1800</th>\n",
       "      <td>tt0209144</td>\n",
       "      <td>9000000</td>\n",
       "      <td>39723096</td>\n",
       "      <td>Memento</td>\n",
       "      <td>Guy Pearce|Carrie-Anne Moss|Joe Pantoliano|Mar...</td>\n",
       "      <td>Christopher Nolan</td>\n",
       "      <td>Some memories are best forgotten.</td>\n",
       "      <td>Suffering short-term memory loss after a head ...</td>\n",
       "      <td>113</td>\n",
       "      <td>Mystery|Thriller</td>\n",
       "      <td>Summit Entertainment|Newmarket Capital Group|T...</td>\n",
       "      <td>10/11/2000</td>\n",
       "      <td>7.9</td>\n",
       "      <td>2000</td>\n",
       "      <td>30723096</td>\n",
       "      <td>10</td>\n",
       "      <td>7</td>\n",
       "      <td>78</td>\n",
       "    </tr>\n",
       "    <tr>\n",
       "      <th>370</th>\n",
       "      <td>tt1375666</td>\n",
       "      <td>160000000</td>\n",
       "      <td>825500000</td>\n",
       "      <td>Inception</td>\n",
       "      <td>Leonardo DiCaprio|Joseph Gordon-Levitt|Ellen P...</td>\n",
       "      <td>Christopher Nolan</td>\n",
       "      <td>Your mind is the scene of the crime.</td>\n",
       "      <td>Cobb, a skilled thief who commits corporate es...</td>\n",
       "      <td>148</td>\n",
       "      <td>Action|Thriller|Science Fiction|Mystery|Adventure</td>\n",
       "      <td>Legendary Pictures|Warner Bros.|Syncopy</td>\n",
       "      <td>7/14/2010</td>\n",
       "      <td>7.9</td>\n",
       "      <td>2010</td>\n",
       "      <td>665500000</td>\n",
       "      <td>7</td>\n",
       "      <td>9</td>\n",
       "      <td>44</td>\n",
       "    </tr>\n",
       "    <tr>\n",
       "      <th>872</th>\n",
       "      <td>tt0253474</td>\n",
       "      <td>35000000</td>\n",
       "      <td>120072577</td>\n",
       "      <td>The Pianist</td>\n",
       "      <td>Adrien Brody|Thomas Kretschmann|Frank Finlay|M...</td>\n",
       "      <td>Roman Polanski</td>\n",
       "      <td>Music was his passion. Survival was his master...</td>\n",
       "      <td>The Pianist is a film adapted from the biograp...</td>\n",
       "      <td>150</td>\n",
       "      <td>Drama|War</td>\n",
       "      <td>Bac Films|Canal+Polska|Heritage Films|Studio B...</td>\n",
       "      <td>9/24/2002</td>\n",
       "      <td>7.9</td>\n",
       "      <td>2002</td>\n",
       "      <td>85072577</td>\n",
       "      <td>9</td>\n",
       "      <td>11</td>\n",
       "      <td>39</td>\n",
       "    </tr>\n",
       "    <tr>\n",
       "      <th>138</th>\n",
       "      <td>tt2278388</td>\n",
       "      <td>30000000</td>\n",
       "      <td>174600318</td>\n",
       "      <td>The Grand Budapest Hotel</td>\n",
       "      <td>Ralph Fiennes|Tony Revolori|F. Murray Abraham|...</td>\n",
       "      <td>Wes Anderson</td>\n",
       "      <td>A perfect holiday without leaving home.</td>\n",
       "      <td>The Grand Budapest Hotel tells of a legendary ...</td>\n",
       "      <td>99</td>\n",
       "      <td>Comedy|Drama</td>\n",
       "      <td>Fox Searchlight Pictures|Scott Rudin Productio...</td>\n",
       "      <td>2/26/2014</td>\n",
       "      <td>7.9</td>\n",
       "      <td>2014</td>\n",
       "      <td>144600318</td>\n",
       "      <td>2</td>\n",
       "      <td>24</td>\n",
       "      <td>66</td>\n",
       "    </tr>\n",
       "    <tr>\n",
       "      <th>1188</th>\n",
       "      <td>tt1798709</td>\n",
       "      <td>23000000</td>\n",
       "      <td>47351251</td>\n",
       "      <td>Her</td>\n",
       "      <td>Joaquin Phoenix|Scarlett Johansson|Rooney Mara...</td>\n",
       "      <td>Spike Jonze</td>\n",
       "      <td>A Spike Jonze Love Story</td>\n",
       "      <td>In the not so distant future, Theodore, a lone...</td>\n",
       "      <td>126</td>\n",
       "      <td>Romance|Science Fiction|Drama</td>\n",
       "      <td>Annapurna Pictures</td>\n",
       "      <td>12/18/2013</td>\n",
       "      <td>7.8</td>\n",
       "      <td>2013</td>\n",
       "      <td>24351251</td>\n",
       "      <td>12</td>\n",
       "      <td>3</td>\n",
       "      <td>65</td>\n",
       "    </tr>\n",
       "    <tr>\n",
       "      <th>28</th>\n",
       "      <td>tt1895587</td>\n",
       "      <td>20000000</td>\n",
       "      <td>88346473</td>\n",
       "      <td>Spotlight</td>\n",
       "      <td>Mark Ruffalo|Michael Keaton|Rachel McAdams|Lie...</td>\n",
       "      <td>Tom McCarthy</td>\n",
       "      <td>Break the story. Break the silence.</td>\n",
       "      <td>The true story of how The Boston Globe uncover...</td>\n",
       "      <td>128</td>\n",
       "      <td>Drama|Thriller|History</td>\n",
       "      <td>Participant Media|Open Road Films|Anonymous Co...</td>\n",
       "      <td>11/6/2015</td>\n",
       "      <td>7.8</td>\n",
       "      <td>2015</td>\n",
       "      <td>68346473</td>\n",
       "      <td>11</td>\n",
       "      <td>9</td>\n",
       "      <td>30</td>\n",
       "    </tr>\n",
       "    <tr>\n",
       "      <th>124</th>\n",
       "      <td>tt2245084</td>\n",
       "      <td>165000000</td>\n",
       "      <td>652105443</td>\n",
       "      <td>Big Hero 6</td>\n",
       "      <td>Scott Adsit|Ryan Potter|Daniel Henney|T.J. Mil...</td>\n",
       "      <td>Don Hall|Chris Williams</td>\n",
       "      <td>From the creators of Wreck-it Ralph and Frozen</td>\n",
       "      <td>The special bond that develops between plus-si...</td>\n",
       "      <td>102</td>\n",
       "      <td>Adventure|Family|Animation|Action|Comedy</td>\n",
       "      <td>Walt Disney Pictures|Walt Disney Animation Stu...</td>\n",
       "      <td>10/24/2014</td>\n",
       "      <td>7.8</td>\n",
       "      <td>2014</td>\n",
       "      <td>487105443</td>\n",
       "      <td>10</td>\n",
       "      <td>10</td>\n",
       "      <td>29</td>\n",
       "    </tr>\n",
       "    <tr>\n",
       "      <th>177</th>\n",
       "      <td>tt2582846</td>\n",
       "      <td>12000000</td>\n",
       "      <td>305151265</td>\n",
       "      <td>The Fault in Our Stars</td>\n",
       "      <td>Shailene Woodley|Ansel Elgort|Nat Wolff|Laura ...</td>\n",
       "      <td>Josh Boone</td>\n",
       "      <td>One Sick Love Story</td>\n",
       "      <td>Despite the tumor-shrinking medical miracle th...</td>\n",
       "      <td>125</td>\n",
       "      <td>Romance|Drama</td>\n",
       "      <td>Fox 2000 Pictures|Temple Hill Entertainment|TS...</td>\n",
       "      <td>5/16/2014</td>\n",
       "      <td>7.8</td>\n",
       "      <td>2014</td>\n",
       "      <td>293151265</td>\n",
       "      <td>5</td>\n",
       "      <td>22</td>\n",
       "      <td>47</td>\n",
       "    </tr>\n",
       "    <tr>\n",
       "      <th>863</th>\n",
       "      <td>tt0167261</td>\n",
       "      <td>79000000</td>\n",
       "      <td>926287400</td>\n",
       "      <td>The Lord of the Rings: The Two Towers</td>\n",
       "      <td>Elijah Wood|Ian McKellen|Viggo Mortensen|Liv T...</td>\n",
       "      <td>Peter Jackson</td>\n",
       "      <td>A New Power Is Rising.</td>\n",
       "      <td>Frodo and Sam are trekking to Mordor to destro...</td>\n",
       "      <td>179</td>\n",
       "      <td>Adventure|Fantasy|Action</td>\n",
       "      <td>WingNut Films|New Line Cinema|The Saul Zaentz ...</td>\n",
       "      <td>12/18/2002</td>\n",
       "      <td>7.8</td>\n",
       "      <td>2002</td>\n",
       "      <td>847287400</td>\n",
       "      <td>12</td>\n",
       "      <td>37</td>\n",
       "      <td>41</td>\n",
       "    </tr>\n",
       "  </tbody>\n",
       "</table>\n",
       "</div>"
      ],
      "text/plain": [
       "        imdb_id     budget     revenue  \\\n",
       "599   tt0468569  185000000  1001921825   \n",
       "118   tt0816692  165000000   621752480   \n",
       "125   tt2084970   14000000   233555708   \n",
       "9     tt2096673  175000000   853708609   \n",
       "34    tt3170832    6000000    35401758   \n",
       "1183  tt0993846  100000000   392000694   \n",
       "128   tt2267998   61000000   369330363   \n",
       "1191  tt2024544   20000000   187000000   \n",
       "119   tt2015381  170000000   773312399   \n",
       "1081  tt0167260   94000000  1118888979   \n",
       "1800  tt0209144    9000000    39723096   \n",
       "370   tt1375666  160000000   825500000   \n",
       "872   tt0253474   35000000   120072577   \n",
       "138   tt2278388   30000000   174600318   \n",
       "1188  tt1798709   23000000    47351251   \n",
       "28    tt1895587   20000000    88346473   \n",
       "124   tt2245084  165000000   652105443   \n",
       "177   tt2582846   12000000   305151265   \n",
       "863   tt0167261   79000000   926287400   \n",
       "\n",
       "                                     original_title  \\\n",
       "599                                 The Dark Knight   \n",
       "118                                    Interstellar   \n",
       "125                              The Imitation Game   \n",
       "9                                        Inside Out   \n",
       "34                                             Room   \n",
       "1183                        The Wolf of Wall Street   \n",
       "128                                       Gone Girl   \n",
       "1191                               12 Years a Slave   \n",
       "119                         Guardians of the Galaxy   \n",
       "1081  The Lord of the Rings: The Return of the King   \n",
       "1800                                        Memento   \n",
       "370                                       Inception   \n",
       "872                                     The Pianist   \n",
       "138                        The Grand Budapest Hotel   \n",
       "1188                                            Her   \n",
       "28                                        Spotlight   \n",
       "124                                      Big Hero 6   \n",
       "177                          The Fault in Our Stars   \n",
       "863           The Lord of the Rings: The Two Towers   \n",
       "\n",
       "                                                   cast  \\\n",
       "599   Christian Bale|Michael Caine|Heath Ledger|Aaro...   \n",
       "118   Matthew McConaughey|Jessica Chastain|Anne Hath...   \n",
       "125   Benedict Cumberbatch|Keira Knightley|Matthew G...   \n",
       "9     Amy Poehler|Phyllis Smith|Richard Kind|Bill Ha...   \n",
       "34    Brie Larson|Jacob Tremblay|Joan Allen|Sean Bri...   \n",
       "1183  Leonardo DiCaprio|Jonah Hill|Margot Robbie|Kyl...   \n",
       "128   Ben Affleck|Rosamund Pike|Carrie Coon|Neil Pat...   \n",
       "1191  Chiwetel Ejiofor|Michael Fassbender|Lupita Nyo...   \n",
       "119   Chris Pratt|Zoe Saldana|Dave Bautista|Vin Dies...   \n",
       "1081  Elijah Wood|Ian McKellen|Viggo Mortensen|Liv T...   \n",
       "1800  Guy Pearce|Carrie-Anne Moss|Joe Pantoliano|Mar...   \n",
       "370   Leonardo DiCaprio|Joseph Gordon-Levitt|Ellen P...   \n",
       "872   Adrien Brody|Thomas Kretschmann|Frank Finlay|M...   \n",
       "138   Ralph Fiennes|Tony Revolori|F. Murray Abraham|...   \n",
       "1188  Joaquin Phoenix|Scarlett Johansson|Rooney Mara...   \n",
       "28    Mark Ruffalo|Michael Keaton|Rachel McAdams|Lie...   \n",
       "124   Scott Adsit|Ryan Potter|Daniel Henney|T.J. Mil...   \n",
       "177   Shailene Woodley|Ansel Elgort|Nat Wolff|Laura ...   \n",
       "863   Elijah Wood|Ian McKellen|Viggo Mortensen|Liv T...   \n",
       "\n",
       "                     director  \\\n",
       "599         Christopher Nolan   \n",
       "118         Christopher Nolan   \n",
       "125             Morten Tyldum   \n",
       "9                 Pete Docter   \n",
       "34           Lenny Abrahamson   \n",
       "1183          Martin Scorsese   \n",
       "128             David Fincher   \n",
       "1191            Steve McQueen   \n",
       "119                James Gunn   \n",
       "1081            Peter Jackson   \n",
       "1800        Christopher Nolan   \n",
       "370         Christopher Nolan   \n",
       "872            Roman Polanski   \n",
       "138              Wes Anderson   \n",
       "1188              Spike Jonze   \n",
       "28               Tom McCarthy   \n",
       "124   Don Hall|Chris Williams   \n",
       "177                Josh Boone   \n",
       "863             Peter Jackson   \n",
       "\n",
       "                                                tagline  \\\n",
       "599                                     Why So Serious?   \n",
       "118   Mankind was born on Earth. It was never meant ...   \n",
       "125   The true enigma was the man who cracked the code.   \n",
       "9              Meet the little voices inside your head.   \n",
       "34                             Love knows no boundaries   \n",
       "1183                                EARN. SPEND. PARTY.   \n",
       "128         You don't know what you've got 'til it's...   \n",
       "1191    The extraordinary true story of Solomon Northup   \n",
       "119                         All heroes start somewhere.   \n",
       "1081                    The eye of the enemy is moving.   \n",
       "1800                  Some memories are best forgotten.   \n",
       "370                Your mind is the scene of the crime.   \n",
       "872   Music was his passion. Survival was his master...   \n",
       "138             A perfect holiday without leaving home.   \n",
       "1188                           A Spike Jonze Love Story   \n",
       "28                  Break the story. Break the silence.   \n",
       "124      From the creators of Wreck-it Ralph and Frozen   \n",
       "177                                 One Sick Love Story   \n",
       "863                              A New Power Is Rising.   \n",
       "\n",
       "                                               overview  runtime  \\\n",
       "599   Batman raises the stakes in his war on crime. ...      152   \n",
       "118   Interstellar chronicles the adventures of a gr...      169   \n",
       "125   Based on the real life story of legendary cryp...      113   \n",
       "9     Growing up can be a bumpy road, and it's no ex...       94   \n",
       "34    Jack is a young boy of 5 years old who has liv...      117   \n",
       "1183  A New York stockbroker refuses to cooperate in...      180   \n",
       "128   With his wife's disappearance having become th...      145   \n",
       "1191  In the pre-Civil War United States, Solomon No...      134   \n",
       "119   Light years from Earth, 26 years after being a...      121   \n",
       "1081  Aragorn is revealed as the heir to the ancient...      201   \n",
       "1800  Suffering short-term memory loss after a head ...      113   \n",
       "370   Cobb, a skilled thief who commits corporate es...      148   \n",
       "872   The Pianist is a film adapted from the biograp...      150   \n",
       "138   The Grand Budapest Hotel tells of a legendary ...       99   \n",
       "1188  In the not so distant future, Theodore, a lone...      126   \n",
       "28    The true story of how The Boston Globe uncover...      128   \n",
       "124   The special bond that develops between plus-si...      102   \n",
       "177   Despite the tumor-shrinking medical miracle th...      125   \n",
       "863   Frodo and Sam are trekking to Mordor to destro...      179   \n",
       "\n",
       "                                                 genres  \\\n",
       "599                         Drama|Action|Crime|Thriller   \n",
       "118                     Adventure|Drama|Science Fiction   \n",
       "125                          History|Drama|Thriller|War   \n",
       "9                               Comedy|Animation|Family   \n",
       "34                                       Drama|Thriller   \n",
       "1183                                 Crime|Drama|Comedy   \n",
       "128                              Mystery|Thriller|Drama   \n",
       "1191                                      Drama|History   \n",
       "119                    Action|Science Fiction|Adventure   \n",
       "1081                           Adventure|Fantasy|Action   \n",
       "1800                                   Mystery|Thriller   \n",
       "370   Action|Thriller|Science Fiction|Mystery|Adventure   \n",
       "872                                           Drama|War   \n",
       "138                                        Comedy|Drama   \n",
       "1188                      Romance|Science Fiction|Drama   \n",
       "28                               Drama|Thriller|History   \n",
       "124            Adventure|Family|Animation|Action|Comedy   \n",
       "177                                       Romance|Drama   \n",
       "863                            Adventure|Fantasy|Action   \n",
       "\n",
       "                                   production_companies release_date  \\\n",
       "599   DC Comics|Legendary Pictures|Warner Bros.|Syncopy    7/16/2008   \n",
       "118   Paramount Pictures|Legendary Pictures|Warner B...    11/5/2014   \n",
       "125              Black Bear Pictures|Bristol Automotive   11/14/2014   \n",
       "9     Walt Disney Pictures|Pixar Animation Studios|W...     6/9/2015   \n",
       "34    Element Pictures|No Trace Camping|A24|Duperele...   10/16/2015   \n",
       "1183  Paramount Pictures|Appian Way|EMJAG Production...   12/25/2013   \n",
       "128   Twentieth Century Fox Film Corporation|Regency...    10/1/2014   \n",
       "1191  Plan B Entertainment|Regency Enterprises|River...   10/18/2013   \n",
       "119   Marvel Studios|Moving Picture Company (MPC)|Bu...    7/30/2014   \n",
       "1081                      WingNut Films|New Line Cinema    12/1/2003   \n",
       "1800  Summit Entertainment|Newmarket Capital Group|T...   10/11/2000   \n",
       "370             Legendary Pictures|Warner Bros.|Syncopy    7/14/2010   \n",
       "872   Bac Films|Canal+Polska|Heritage Films|Studio B...    9/24/2002   \n",
       "138   Fox Searchlight Pictures|Scott Rudin Productio...    2/26/2014   \n",
       "1188                                 Annapurna Pictures   12/18/2013   \n",
       "28    Participant Media|Open Road Films|Anonymous Co...    11/6/2015   \n",
       "124   Walt Disney Pictures|Walt Disney Animation Stu...   10/24/2014   \n",
       "177   Fox 2000 Pictures|Temple Hill Entertainment|TS...    5/16/2014   \n",
       "863   WingNut Films|New Line Cinema|The Saul Zaentz ...   12/18/2002   \n",
       "\n",
       "      vote_average  release_year      profit  month  name_len  word_count  \n",
       "599            8.1          2008   816921825      7        15          67  \n",
       "118            8.0          2014   456752480     11        12          35  \n",
       "125            8.0          2014   219555708     11        18          46  \n",
       "9              8.0          2015   678708609      6        10         112  \n",
       "34             8.0          2015    29401758     10         4          49  \n",
       "1183           7.9          2013   292000694     12        23          29  \n",
       "128            7.9          2014   308330363     10         9          30  \n",
       "1191           7.9          2013   167000000     10        16          61  \n",
       "119            7.9          2014   603312399      7        23          28  \n",
       "1081           7.9          2003  1024888979     12        45          45  \n",
       "1800           7.9          2000    30723096     10         7          78  \n",
       "370            7.9          2010   665500000      7         9          44  \n",
       "872            7.9          2002    85072577      9        11          39  \n",
       "138            7.9          2014   144600318      2        24          66  \n",
       "1188           7.8          2013    24351251     12         3          65  \n",
       "28             7.8          2015    68346473     11         9          30  \n",
       "124            7.8          2014   487105443     10        10          29  \n",
       "177            7.8          2014   293151265      5        22          47  \n",
       "863            7.8          2002   847287400     12        37          41  "
      ]
     },
     "execution_count": 66,
     "metadata": {},
     "output_type": "execute_result"
    }
   ],
   "source": [
    "data.sort_values('vote_average', ascending=False).head(19)"
   ]
  },
  {
   "cell_type": "markdown",
   "metadata": {
    "colab_type": "text",
    "id": "MdXsUXbCVqAV"
   },
   "source": [
    "# 27. Какие актеры чаще всего снимаются в одном фильме вместе?\n"
   ]
  },
  {
   "cell_type": "code",
   "execution_count": 67,
   "metadata": {},
   "outputs": [],
   "source": [
    "answers['27'] = ''\n",
    "# \"-\""
   ]
  },
  {
   "cell_type": "markdown",
   "metadata": {
    "colab_type": "text",
    "id": "U0nONFnGVqAX"
   },
   "source": [
    "# Submission"
   ]
  },
  {
   "cell_type": "code",
   "execution_count": 68,
   "metadata": {
    "colab": {},
    "colab_type": "code",
    "id": "IfcaRO9-VqAX",
    "outputId": "0f132912-32bb-4196-c98c-abfbc4ad5a5f"
   },
   "outputs": [
    {
     "data": {
      "text/plain": [
       "{'1': 'Pirates of the Caribbean: On Stranger Tides (tt1298650)',\n",
       " '2': 'Gods and Generals (tt0279111)',\n",
       " '3': 'Winnie the Pooh (tt1449283)',\n",
       " '4': 110,\n",
       " '5': '107',\n",
       " '6': 'Avatar (tt0499549)',\n",
       " '7': 'The Lone Ranger (tt1210819)',\n",
       " '8': 1478,\n",
       " '9': 'The Dark Knight (tt0468569)',\n",
       " '10': 'The Lone Ranger (tt1210819)',\n",
       " '11': 'Drama',\n",
       " '12': 'Drama',\n",
       " '13': 'Peter Jackson',\n",
       " '14': 'Robert Rodriguez',\n",
       " '15': 'Chris Hemsworth',\n",
       " '16': 'Matt Damon',\n",
       " '17': 'Action',\n",
       " '18': 'K-19: The Widowmaker (tt0267626)',\n",
       " '19': 2015,\n",
       " '20': 2014,\n",
       " '21': 'Сентябрь',\n",
       " '22': 450,\n",
       " '23': 'Peter Jackson',\n",
       " '24': 'Four By Two Productions',\n",
       " '25': 'Midnight Picture Show',\n",
       " '26': 'Peter Jackson',\n",
       " '27': ''}"
      ]
     },
     "execution_count": 68,
     "metadata": {},
     "output_type": "execute_result"
    }
   ],
   "source": [
    "# в конце можно посмотреть свои ответы к каждому вопросу\n",
    "answers"
   ]
  },
  {
   "cell_type": "code",
   "execution_count": 69,
   "metadata": {
    "colab": {},
    "colab_type": "code",
    "id": "SiRmHPl8VqAd"
   },
   "outputs": [
    {
     "data": {
      "text/plain": [
       "27"
      ]
     },
     "execution_count": 69,
     "metadata": {},
     "output_type": "execute_result"
    }
   ],
   "source": [
    "# и убедиться что ни чего не пропустил)\n",
    "len(answers)"
   ]
  }
 ],
 "metadata": {
  "colab": {
   "name": "Copy of [SF-DST] Movies IMBD v4.1 TEMPLATE.ipynb",
   "provenance": []
  },
  "kernelspec": {
   "display_name": "Python 3",
   "language": "python",
   "name": "python3"
  },
  "language_info": {
   "codemirror_mode": {
    "name": "ipython",
    "version": 3
   },
   "file_extension": ".py",
   "mimetype": "text/x-python",
   "name": "python",
   "nbconvert_exporter": "python",
   "pygments_lexer": "ipython3",
   "version": "3.7.6"
  }
 },
 "nbformat": 4,
 "nbformat_minor": 1
}
